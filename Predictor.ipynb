{
  "nbformat": 4,
  "nbformat_minor": 0,
  "metadata": {
    "colab": {
      "name": "Predictor.ipynb",
      "provenance": [],
      "collapsed_sections": []
    },
    "kernelspec": {
      "name": "python3",
      "display_name": "Python 3"
    },
    "language_info": {
      "name": "python"
    }
  },
  "cells": [
    {
      "cell_type": "code",
      "execution_count": 5,
      "metadata": {
        "colab": {
          "base_uri": "https://localhost:8080/"
        },
        "id": "jjasjUEvehDN",
        "outputId": "0196207f-39f7-4600-8da5-690246f8aa2a"
      },
      "outputs": [
        {
          "output_type": "stream",
          "name": "stdout",
          "text": [
            "Collecting yfinance\n",
            "  Downloading yfinance-0.1.70-py2.py3-none-any.whl (26 kB)\n",
            "Collecting lxml>=4.5.1\n",
            "  Downloading lxml-4.8.0-cp37-cp37m-manylinux_2_17_x86_64.manylinux2014_x86_64.manylinux_2_24_x86_64.whl (6.4 MB)\n",
            "\u001b[K     |████████████████████████████████| 6.4 MB 28.6 MB/s \n",
            "\u001b[?25hRequirement already satisfied: numpy>=1.15 in /usr/local/lib/python3.7/dist-packages (from yfinance) (1.21.5)\n",
            "Collecting requests>=2.26\n",
            "  Downloading requests-2.27.1-py2.py3-none-any.whl (63 kB)\n",
            "\u001b[K     |████████████████████████████████| 63 kB 46.0 MB/s \n",
            "\u001b[?25hRequirement already satisfied: multitasking>=0.0.7 in /usr/local/lib/python3.7/dist-packages (from yfinance) (0.0.10)\n",
            "Requirement already satisfied: pandas>=0.24.0 in /usr/local/lib/python3.7/dist-packages (from yfinance) (1.3.5)\n",
            "Requirement already satisfied: python-dateutil>=2.7.3 in /usr/local/lib/python3.7/dist-packages (from pandas>=0.24.0->yfinance) (2.8.2)\n",
            "Requirement already satisfied: pytz>=2017.3 in /usr/local/lib/python3.7/dist-packages (from pandas>=0.24.0->yfinance) (2018.9)\n",
            "Requirement already satisfied: six>=1.5 in /usr/local/lib/python3.7/dist-packages (from python-dateutil>=2.7.3->pandas>=0.24.0->yfinance) (1.15.0)\n",
            "Requirement already satisfied: charset-normalizer~=2.0.0 in /usr/local/lib/python3.7/dist-packages (from requests>=2.26->yfinance) (2.0.12)\n",
            "Requirement already satisfied: urllib3<1.27,>=1.21.1 in /usr/local/lib/python3.7/dist-packages (from requests>=2.26->yfinance) (1.24.3)\n",
            "Requirement already satisfied: certifi>=2017.4.17 in /usr/local/lib/python3.7/dist-packages (from requests>=2.26->yfinance) (2021.10.8)\n",
            "Requirement already satisfied: idna<4,>=2.5 in /usr/local/lib/python3.7/dist-packages (from requests>=2.26->yfinance) (2.10)\n",
            "Installing collected packages: requests, lxml, yfinance\n",
            "  Attempting uninstall: requests\n",
            "    Found existing installation: requests 2.23.0\n",
            "    Uninstalling requests-2.23.0:\n",
            "      Successfully uninstalled requests-2.23.0\n",
            "  Attempting uninstall: lxml\n",
            "    Found existing installation: lxml 4.2.6\n",
            "    Uninstalling lxml-4.2.6:\n",
            "      Successfully uninstalled lxml-4.2.6\n",
            "\u001b[31mERROR: pip's dependency resolver does not currently take into account all the packages that are installed. This behaviour is the source of the following dependency conflicts.\n",
            "google-colab 1.0.0 requires requests~=2.23.0, but you have requests 2.27.1 which is incompatible.\n",
            "datascience 0.10.6 requires folium==0.2.1, but you have folium 0.8.3 which is incompatible.\u001b[0m\n",
            "Successfully installed lxml-4.8.0 requests-2.27.1 yfinance-0.1.70\n"
          ]
        }
      ],
      "source": [
        "pip install yfinance --upgrade --no-cache-dir"
      ]
    },
    {
      "cell_type": "code",
      "source": [
        ""
      ],
      "metadata": {
        "id": "eAAoHoH1emLn"
      },
      "execution_count": null,
      "outputs": []
    },
    {
      "cell_type": "code",
      "source": [
        "from google.colab import drive\n",
        "drive.mount('/content/drive')"
      ],
      "metadata": {
        "colab": {
          "base_uri": "https://localhost:8080/"
        },
        "id": "DS9bZaMge-RI",
        "outputId": "a91f8740-c72d-4cb9-a0a6-e24a679571c2"
      },
      "execution_count": 1,
      "outputs": [
        {
          "output_type": "stream",
          "name": "stdout",
          "text": [
            "Mounted at /content/drive\n"
          ]
        }
      ]
    },
    {
      "cell_type": "code",
      "source": [
        "import yfinance as yf\n",
        "stock = yf.Ticker(\"ADANIPORTS.NS\")"
      ],
      "metadata": {
        "id": "aTC_vF0ae-_P"
      },
      "execution_count": 6,
      "outputs": []
    },
    {
      "cell_type": "code",
      "source": [
        "stock.info"
      ],
      "metadata": {
        "colab": {
          "base_uri": "https://localhost:8080/"
        },
        "id": "pzlmssIDfWBz",
        "outputId": "0ffa22f6-2dda-495a-b3ff-a27a305e5c18"
      },
      "execution_count": 8,
      "outputs": [
        {
          "output_type": "execute_result",
          "data": {
            "text/plain": [
              "{'52WeekChange': 0.05860555,\n",
              " 'SandP52WeekChange': 0.11475241,\n",
              " 'address1': 'Adani Corporate House',\n",
              " 'address2': 'Shantigram Near Vaishnodevi Circle S G Highway',\n",
              " 'algorithm': None,\n",
              " 'annualHoldingsTurnover': None,\n",
              " 'annualReportExpenseRatio': None,\n",
              " 'ask': 0,\n",
              " 'askSize': 0,\n",
              " 'averageDailyVolume10Day': 5960401,\n",
              " 'averageVolume': 4973589,\n",
              " 'averageVolume10days': 5960401,\n",
              " 'beta': 0.874331,\n",
              " 'beta3Year': None,\n",
              " 'bid': 0,\n",
              " 'bidSize': 0,\n",
              " 'bookValue': 151.472,\n",
              " 'category': None,\n",
              " 'circulatingSupply': None,\n",
              " 'city': 'Ahmedabad',\n",
              " 'companyOfficers': [],\n",
              " 'country': 'India',\n",
              " 'currency': 'INR',\n",
              " 'currentPrice': 818.55,\n",
              " 'currentRatio': None,\n",
              " 'dateShortInterest': None,\n",
              " 'dayHigh': 822.15,\n",
              " 'dayLow': 783.65,\n",
              " 'debtToEquity': 148.131,\n",
              " 'dividendRate': 5,\n",
              " 'dividendYield': 0.0064,\n",
              " 'earningsGrowth': -0.094,\n",
              " 'earningsQuarterlyGrowth': -0.057,\n",
              " 'ebitda': 93473251328,\n",
              " 'ebitdaMargins': 0.59549,\n",
              " 'enterpriseToEbitda': 21.299,\n",
              " 'enterpriseToRevenue': 12.683,\n",
              " 'enterpriseValue': 1990846578688,\n",
              " 'exDividendDate': 1624492800,\n",
              " 'exchange': 'NSI',\n",
              " 'exchangeTimezoneName': 'Asia/Kolkata',\n",
              " 'exchangeTimezoneShortName': 'IST',\n",
              " 'expireDate': None,\n",
              " 'fax': '91 79 2555 5500',\n",
              " 'fiftyDayAverage': 723.131,\n",
              " 'fiftyTwoWeekHigh': 901,\n",
              " 'fiftyTwoWeekLow': 638.1,\n",
              " 'financialCurrency': 'INR',\n",
              " 'fiveYearAverageReturn': None,\n",
              " 'fiveYearAvgDividendYield': None,\n",
              " 'floatShares': 737608597,\n",
              " 'forwardEps': 33.42,\n",
              " 'forwardPE': 24.492819,\n",
              " 'freeCashflow': None,\n",
              " 'fromCurrency': None,\n",
              " 'fullTimeEmployees': 2773,\n",
              " 'fundFamily': None,\n",
              " 'fundInceptionDate': None,\n",
              " 'gmtOffSetMilliseconds': '19800000',\n",
              " 'grossMargins': 0.66218,\n",
              " 'grossProfits': 86046400000,\n",
              " 'heldPercentInsiders': 0.71233004,\n",
              " 'heldPercentInstitutions': 0.20457001,\n",
              " 'impliedSharesOutstanding': 0,\n",
              " 'industry': 'Marine Shipping',\n",
              " 'isEsgPopulated': False,\n",
              " 'lastCapGain': None,\n",
              " 'lastDividendDate': 1624492800,\n",
              " 'lastDividendValue': 5,\n",
              " 'lastFiscalYearEnd': 1617148800,\n",
              " 'lastMarket': None,\n",
              " 'lastSplitDate': 1285200000,\n",
              " 'lastSplitFactor': '5:1',\n",
              " 'legalType': None,\n",
              " 'logo_url': 'https://logo.clearbit.com/adaniports.com',\n",
              " 'longBusinessSummary': 'Adani Ports and Special Economic Zone Limited, together with its subsidiaries, develops, operates, and maintains port infrastructure facilities in India. It also engages in the ports related infrastructure development activities; and development of infrastructure at contiguous Special Economic Zone at Mundra. The company operates 12 ports and terminals with 64 berths to facilitate the handling of dry bulk, liquid cargo, crude oil, containers, ro-ro, and project cargo at Mundra, Hazira, Dahej, Dhamra, Vizag, Murmugao, Kattupalli, Ennore, Tuna, Krishnapatnam, Dighi, and Vizhinjam port locations. It also provides auto logistics, inland waterways, rail operation, warehousing, and agriculture logistics services, as well as operates multi-modal logistics parks; and offers capital, maintenance, and inland water dredging services. In addition, it is involved in the operation, development, maintenance, improvement, and extension of utility services, including power distribution; provision of passenger airline, dredging, and warehousing / storage facilities and other related services, as well as hospital and related services; and ownership and operation of harbour tugs, barges, other port crafts, ocean towage, and offshore support vessels, as well as offers marine services, such as pilotage, laying, and maintenance of buoys. The company was formerly known as Mundra Port and Special Economic Zone Limited and changed its name to Adani Ports and Special Economic Zone Limited in January 2012. Adani Ports and Special Economic Zone Limited was incorporated in 1998 and is headquartered in Ahmedabad, India.',\n",
              " 'longName': 'Adani Ports and Special Economic Zone Limited',\n",
              " 'market': 'in_market',\n",
              " 'marketCap': 1729080459264,\n",
              " 'maxAge': 1,\n",
              " 'maxSupply': None,\n",
              " 'messageBoardId': 'finmb_27674009',\n",
              " 'morningStarOverallRating': None,\n",
              " 'morningStarRiskRating': None,\n",
              " 'mostRecentQuarter': 1640908800,\n",
              " 'navPrice': None,\n",
              " 'netIncomeToCommon': 49919000576,\n",
              " 'nextFiscalYearEnd': 1680220800,\n",
              " 'numberOfAnalystOpinions': 24,\n",
              " 'open': 791,\n",
              " 'openInterest': None,\n",
              " 'operatingCashflow': None,\n",
              " 'operatingMargins': 0.44733003,\n",
              " 'payoutRatio': 0.2094,\n",
              " 'pegRatio': 1.03,\n",
              " 'phone': '91 79 2656 5555',\n",
              " 'preMarketPrice': None,\n",
              " 'previousClose': 785.75,\n",
              " 'priceHint': 2,\n",
              " 'priceToBook': 5.403969,\n",
              " 'priceToSalesTrailing12Months': 11.015427,\n",
              " 'profitMargins': 0.31802,\n",
              " 'quickRatio': None,\n",
              " 'quoteType': 'EQUITY',\n",
              " 'recommendationKey': 'buy',\n",
              " 'recommendationMean': 1.8,\n",
              " 'regularMarketDayHigh': 822.15,\n",
              " 'regularMarketDayLow': 783.65,\n",
              " 'regularMarketOpen': 791,\n",
              " 'regularMarketPreviousClose': 785.75,\n",
              " 'regularMarketPrice': 818.55,\n",
              " 'regularMarketVolume': 13735165,\n",
              " 'returnOnAssets': None,\n",
              " 'returnOnEquity': None,\n",
              " 'revenueGrowth': 0.014,\n",
              " 'revenuePerShare': 75.049,\n",
              " 'revenueQuarterlyGrowth': None,\n",
              " 'sector': 'Industrials',\n",
              " 'sharesOutstanding': 2112370048,\n",
              " 'sharesPercentSharesOut': None,\n",
              " 'sharesShort': None,\n",
              " 'sharesShortPreviousMonthDate': None,\n",
              " 'sharesShortPriorMonth': None,\n",
              " 'shortName': 'ADANI PORT SPECIAL',\n",
              " 'shortPercentOfFloat': None,\n",
              " 'shortRatio': None,\n",
              " 'startDate': None,\n",
              " 'strikePrice': None,\n",
              " 'symbol': 'ADANIPORTS.NS',\n",
              " 'targetHighPrice': 1001,\n",
              " 'targetLowPrice': 735,\n",
              " 'targetMeanPrice': 863.46,\n",
              " 'targetMedianPrice': 871,\n",
              " 'threeYearAverageReturn': None,\n",
              " 'toCurrency': None,\n",
              " 'totalAssets': None,\n",
              " 'totalCash': 133742501888,\n",
              " 'totalCashPerShare': 63.317,\n",
              " 'totalDebt': 462196113408,\n",
              " 'totalRevenue': 156968992768,\n",
              " 'tradeable': False,\n",
              " 'trailingAnnualDividendRate': 0,\n",
              " 'trailingAnnualDividendYield': 0,\n",
              " 'trailingEps': 23.867,\n",
              " 'trailingPE': 34.296307,\n",
              " 'twoHundredDayAverage': 727.90576,\n",
              " 'volume': 13735165,\n",
              " 'volume24Hr': None,\n",
              " 'volumeAllCurrencies': None,\n",
              " 'website': 'https://www.adaniports.com',\n",
              " 'yield': None,\n",
              " 'ytdReturn': None,\n",
              " 'zip': '382421'}"
            ]
          },
          "metadata": {},
          "execution_count": 8
        }
      ]
    },
    {
      "cell_type": "code",
      "source": [
        "hist = stock.history(start=\"2022-01-01\",  end=\"2022-03-11\")\n",
        "type(hist)"
      ],
      "metadata": {
        "colab": {
          "base_uri": "https://localhost:8080/"
        },
        "id": "6uHyhB3LfnMd",
        "outputId": "44e08b68-fc75-49ae-8273-ca77362b2a5a"
      },
      "execution_count": 11,
      "outputs": [
        {
          "output_type": "execute_result",
          "data": {
            "text/plain": [
              "pandas.core.frame.DataFrame"
            ]
          },
          "metadata": {},
          "execution_count": 11
        }
      ]
    },
    {
      "cell_type": "code",
      "source": [
        "hist[\"Close\"][-10:]"
      ],
      "metadata": {
        "colab": {
          "base_uri": "https://localhost:8080/"
        },
        "id": "lbLG1MRifs1J",
        "outputId": "c7047b16-ac9e-4076-b559-faf59bc44e57"
      },
      "execution_count": 10,
      "outputs": [
        {
          "output_type": "execute_result",
          "data": {
            "text/plain": [
              "Date\n",
              "2022-02-24    654.849976\n",
              "2022-02-25    695.150024\n",
              "2022-02-28    707.500000\n",
              "2022-03-02    710.299988\n",
              "2022-03-03    706.700012\n",
              "2022-03-04    700.150024\n",
              "2022-03-07    677.799988\n",
              "2022-03-08    688.849976\n",
              "2022-03-09    714.099976\n",
              "2022-03-10    730.400024\n",
              "Name: Close, dtype: float64"
            ]
          },
          "metadata": {},
          "execution_count": 10
        }
      ]
    },
    {
      "cell_type": "code",
      "source": [
        "cd /content/drive/MyDrive/Trading Bot"
      ],
      "metadata": {
        "colab": {
          "base_uri": "https://localhost:8080/"
        },
        "id": "4RmDvgH-gn5u",
        "outputId": "ea49cd33-c49b-4be4-c276-06f8ee54c8dc"
      },
      "execution_count": 27,
      "outputs": [
        {
          "output_type": "stream",
          "name": "stdout",
          "text": [
            "/content/drive/MyDrive/Trading Bot\n"
          ]
        }
      ]
    },
    {
      "cell_type": "code",
      "source": [
        "from tensorflow import keras\n",
        "model = keras.models.load_model('model')"
      ],
      "metadata": {
        "id": "RKIg9wUjfvOs"
      },
      "execution_count": 28,
      "outputs": []
    },
    {
      "cell_type": "code",
      "source": [
        "input = [[]]\n",
        "for i in range(10):\n",
        "    input[0].insert(0,hist[\"Close\"][-i-1])\n",
        "model.predict(input)"
      ],
      "metadata": {
        "colab": {
          "base_uri": "https://localhost:8080/"
        },
        "id": "9I02ROJ3gLrw",
        "outputId": "b7b9fd44-da9c-4f33-d483-6f3fa7faa031"
      },
      "execution_count": 31,
      "outputs": [
        {
          "output_type": "execute_result",
          "data": {
            "text/plain": [
              "array([[738.8636]], dtype=float32)"
            ]
          },
          "metadata": {},
          "execution_count": 31
        }
      ]
    }
  ]
}