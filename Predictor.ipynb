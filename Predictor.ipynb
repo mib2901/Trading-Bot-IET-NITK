{
  "cells": [
    {
      "cell_type": "code",
      "execution_count": 58,
      "metadata": {
        "colab": {
          "base_uri": "https://localhost:8080/"
        },
        "id": "jjasjUEvehDN",
        "outputId": "16e3a536-0240-48ee-cf04-76e95b1c82a0"
      },
      "outputs": [
        {
          "output_type": "stream",
          "name": "stdout",
          "text": [
            "Requirement already satisfied: yfinance in /usr/local/lib/python3.7/dist-packages (0.1.70)\n",
            "Requirement already satisfied: lxml>=4.5.1 in /usr/local/lib/python3.7/dist-packages (from yfinance) (4.8.0)\n",
            "Requirement already satisfied: pandas>=0.24.0 in /usr/local/lib/python3.7/dist-packages (from yfinance) (1.3.5)\n",
            "Requirement already satisfied: multitasking>=0.0.7 in /usr/local/lib/python3.7/dist-packages (from yfinance) (0.0.10)\n",
            "Requirement already satisfied: requests>=2.26 in /usr/local/lib/python3.7/dist-packages (from yfinance) (2.27.1)\n",
            "Requirement already satisfied: numpy>=1.15 in /usr/local/lib/python3.7/dist-packages (from yfinance) (1.21.5)\n",
            "Requirement already satisfied: python-dateutil>=2.7.3 in /usr/local/lib/python3.7/dist-packages (from pandas>=0.24.0->yfinance) (2.8.2)\n",
            "Requirement already satisfied: pytz>=2017.3 in /usr/local/lib/python3.7/dist-packages (from pandas>=0.24.0->yfinance) (2018.9)\n",
            "Requirement already satisfied: six>=1.5 in /usr/local/lib/python3.7/dist-packages (from python-dateutil>=2.7.3->pandas>=0.24.0->yfinance) (1.15.0)\n",
            "Requirement already satisfied: urllib3<1.27,>=1.21.1 in /usr/local/lib/python3.7/dist-packages (from requests>=2.26->yfinance) (1.24.3)\n",
            "Requirement already satisfied: certifi>=2017.4.17 in /usr/local/lib/python3.7/dist-packages (from requests>=2.26->yfinance) (2021.10.8)\n",
            "Requirement already satisfied: charset-normalizer~=2.0.0 in /usr/local/lib/python3.7/dist-packages (from requests>=2.26->yfinance) (2.0.12)\n",
            "Requirement already satisfied: idna<4,>=2.5 in /usr/local/lib/python3.7/dist-packages (from requests>=2.26->yfinance) (2.10)\n"
          ]
        }
      ],
      "source": [
        "pip install yfinance --upgrade --no-cache-dir"
      ]
    },
    {
      "cell_type": "code",
      "execution_count": 59,
      "metadata": {
        "id": "U4OC9Rf6E5y_"
      },
      "outputs": [],
      "source": [
        "from tensorflow import keras\n",
        "import yfinance as yf\n",
        "import numpy as np"
      ]
    },
    {
      "cell_type": "code",
      "execution_count": 60,
      "metadata": {
        "colab": {
          "base_uri": "https://localhost:8080/"
        },
        "id": "DS9bZaMge-RI",
        "outputId": "2daa1c5d-d82b-47de-f958-c57fa7202cf8"
      },
      "outputs": [
        {
          "output_type": "stream",
          "name": "stdout",
          "text": [
            "Drive already mounted at /content/drive; to attempt to forcibly remount, call drive.mount(\"/content/drive\", force_remount=True).\n"
          ]
        }
      ],
      "source": [
        "from google.colab import drive\n",
        "drive.mount('/content/drive')"
      ]
    },
    {
      "cell_type": "code",
      "execution_count": 61,
      "metadata": {
        "colab": {
          "base_uri": "https://localhost:8080/"
        },
        "id": "CnNZVXKCFByy",
        "outputId": "3c3d3ac9-4952-4961-e9e9-68ccc16dbe48"
      },
      "outputs": [
        {
          "output_type": "stream",
          "name": "stdout",
          "text": [
            "/content/drive/MyDrive/Trading Bot\n"
          ]
        }
      ],
      "source": [
        "cd /content/drive/MyDrive/Trading Bot"
      ]
    },
    {
      "cell_type": "code",
      "execution_count": 62,
      "metadata": {
        "id": "6uHyhB3LfnMd"
      },
      "outputs": [],
      "source": [
        "from datetime import date, timedelta\n",
        "today_date = date.today()\n",
        "N = 10"
      ]
    },
    {
      "cell_type": "code",
      "execution_count": 63,
      "metadata": {
        "id": "lbLG1MRifs1J"
      },
      "outputs": [],
      "source": [
        "file1 = open('company_list.txt',\"r+\") \n",
        "company_list = file1.read()\n",
        "company_list = company_list.split('\\n')\n",
        "for i in range(len(company_list)):\n",
        "    company_list[i] += '.NS'"
      ]
    },
    {
      "cell_type": "code",
      "execution_count": 64,
      "metadata": {
        "id": "RKIg9wUjfvOs"
      },
      "outputs": [],
      "source": [
        "model = keras.models.load_model('model')"
      ]
    },
    {
      "cell_type": "code",
      "execution_count": 65,
      "metadata": {
        "id": "3_zTZDQkGNTJ"
      },
      "outputs": [],
      "source": [
        "def extractLast10Days(stock):\n",
        "  hist = stock.history(start=today_date-timedelta(days=2*N), end=today_date)\n",
        "  hist = hist[\"Close\"]\n",
        "\n",
        "  i = len(hist)-N\n",
        "  price_list = []\n",
        "  \n",
        "  while len(price_list) < N:\n",
        "    price_list.append(hist[i])\n",
        "    i+=1\n",
        "\n",
        "  return np.array([price_list])\n",
        "\n",
        "def stockPredict(stock,n=5):\n",
        "  price_list = extractLast10Days(stock)\n",
        "  predictedPriceIndividualDays = []\n",
        "  predictedPriceIndividualDays.append(price_list[0][-1])\n",
        "  for i in range(n):\n",
        "    output = model.predict(price_list)\n",
        "    for j in range(len(price_list[0])-1):\n",
        "        price_list[0][j] = price_list[0][j+1]\n",
        "    price_list[0][len(price_list[0])-1] = output\n",
        "    predictedPriceIndividualDays.append(output)\n",
        "\n",
        "  return predictedPriceIndividualDays\n",
        "\n",
        "def percentage_return():\n",
        "  result = []\n",
        "  for i in range(len(company_list)):\n",
        "    stock = yf.Ticker(company_list[i])\n",
        "    if(stock.info['logo_url']!=''):\n",
        "      predict = stockPredict(stock)\n",
        "      result.append((predict[-1]-predict[0])/predict[0])  \n",
        "    else:\n",
        "      result.append(float('NaN'))\n",
        "\n",
        "  return result"
      ]
    },
    {
      "cell_type": "code",
      "execution_count": 66,
      "metadata": {
        "id": "TiACg8HQHXh9"
      },
      "outputs": [],
      "source": [
        "ans = percentage_return()"
      ]
    },
    {
      "cell_type": "code",
      "execution_count": 71,
      "metadata": {
        "id": "XJISrHqYH7kR",
        "colab": {
          "base_uri": "https://localhost:8080/"
        },
        "outputId": "8af78db0-48d6-4c08-d915-0f686b038747"
      },
      "outputs": [
        {
          "output_type": "stream",
          "name": "stderr",
          "text": [
            "/usr/local/lib/python3.7/dist-packages/ipykernel_launcher.py:1: VisibleDeprecationWarning: Creating an ndarray from ragged nested sequences (which is a list-or-tuple of lists-or-tuples-or ndarrays with different lengths or shapes) is deprecated. If you meant to do this, you must specify 'dtype=object' when creating the ndarray.\n",
            "  \"\"\"Entry point for launching an IPython kernel.\n"
          ]
        }
      ],
      "source": [
        "ans = np.array(ans)"
      ]
    },
    {
      "cell_type": "code",
      "execution_count": 78,
      "metadata": {
        "id": "T3ug86mDOyGd",
        "colab": {
          "base_uri": "https://localhost:8080/",
          "height": 35
        },
        "outputId": "7dc623ed-5c0a-4bd2-82e6-93b825e3c630"
      },
      "outputs": [
        {
          "output_type": "execute_result",
          "data": {
            "text/plain": [
              "'COALINDIA.NS'"
            ],
            "application/vnd.google.colaboratory.intrinsic+json": {
              "type": "string"
            }
          },
          "metadata": {},
          "execution_count": 78
        }
      ],
      "source": [
        "company_list[ans.argmax()]"
      ]
    },
    {
      "cell_type": "code",
      "source": [
        ""
      ],
      "metadata": {
        "id": "pjBhtsgqVOYw"
      },
      "execution_count": null,
      "outputs": []
    }
  ],
  "metadata": {
    "colab": {
      "collapsed_sections": [],
      "name": "Predictor.ipynb",
      "provenance": []
    },
    "kernelspec": {
      "display_name": "Python 3",
      "name": "python3"
    },
    "language_info": {
      "name": "python"
    }
  },
  "nbformat": 4,
  "nbformat_minor": 0
}